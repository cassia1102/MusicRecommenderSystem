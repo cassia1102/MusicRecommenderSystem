{
 "cells": [
  {
   "cell_type": "markdown",
   "id": "e138bcc1",
   "metadata": {},
   "source": [
    "###                                                HW9\n",
    "1. Download the new test2_new.txt data which contains the ground-truth of the track ID recommendations. \n",
    "\n",
    "2. Use the userID in test2_new.txt to fetch the related rating scores in the training data for the same users. \n",
    "\n",
    "3. For the fetched rating score matrix, use the \"1\" and \"0\" recommendations in test2 to training your classifier.  You need to use \n",
    "\n",
    "from pyspark.ml.classification import ******\n",
    "You need to try 4 different classifiers in the pyspark.ml library as shown in the lecture notes to train your models.  \n",
    "\n",
    "4. Then apply the trained models to what you fetched rating scores from the final project test data and make predictions.  Submit your new results at Kaggle. "
   ]
  },
  {
   "cell_type": "markdown",
   "id": "be0e7275",
   "metadata": {},
   "source": [
    "#### 1.build the LogisticRegression model"
   ]
  },
  {
   "cell_type": "code",
   "execution_count": null,
   "id": "8d5e88f6",
   "metadata": {
    "scrolled": true
   },
   "outputs": [],
   "source": [
    "#pip install pyspark"
   ]
  },
  {
   "cell_type": "code",
   "execution_count": null,
   "id": "3c16b382",
   "metadata": {},
   "outputs": [],
   "source": [
    "#conda install -c cyclus java-jdk"
   ]
  },
  {
   "cell_type": "code",
   "execution_count": null,
   "id": "85c06f45",
   "metadata": {},
   "outputs": [],
   "source": [
    "#pip install py4j"
   ]
  },
  {
   "cell_type": "code",
   "execution_count": 29,
   "id": "21861970",
   "metadata": {},
   "outputs": [],
   "source": [
    "#load pySpark modules \n",
    "\n",
    "from pyspark.sql import SparkSession\n",
    "from pyspark import SparkContext, SparkConf\n",
    "from pyspark.ml.tuning import ParamGridBuilder, CrossValidator\n",
    "from pyspark.ml.evaluation import BinaryClassificationEvaluator\n",
    "from pyspark.ml.evaluation import RegressionEvaluator\n",
    "from pyspark.ml.recommendation import ALS\n",
    "from pyspark.sql import functions as F\n",
    "spark = SparkSession.builder.getOrCreate()\n",
    "sc=spark.sparkContext"
   ]
  },
  {
   "cell_type": "code",
   "execution_count": 2,
   "id": "6c64dc2f",
   "metadata": {},
   "outputs": [
    {
     "name": "stdout",
     "output_type": "stream",
     "text": [
      "+-------------+------+\n",
      "|      TrackID|rating|\n",
      "+-------------+------+\n",
      "| 200031_30877|     1|\n",
      "|  200031_8244|     1|\n",
      "|200031_130183|     0|\n",
      "|200031_198762|     0|\n",
      "| 200031_34503|     1|\n",
      "+-------------+------+\n",
      "only showing top 5 rows\n",
      "\n"
     ]
    }
   ],
   "source": [
    "#load training data file into pySpark dataFrame format\n",
    "\n",
    "training = spark.read.csv(\"test_new.csv\", header = False)\n",
    "#rename training dataFrame column names\n",
    "\n",
    "training = training.withColumnRenamed(\"_c0\", \"userID\").withColumnRenamed(\"_c1\", \"itemID\").withColumnRenamed(\"_c2\", \"rating\")\n",
    "training = training.withColumn('TrackID', F.concat(F.col('userID'),F.lit('_'), F.col('itemID'))).select('TrackID','rating')\n",
    "training.show(5)\n"
   ]
  },
  {
   "cell_type": "code",
   "execution_count": 3,
   "id": "18080be8",
   "metadata": {},
   "outputs": [
    {
     "name": "stdout",
     "output_type": "stream",
     "text": [
      "+------+------+------+------+\n",
      "|userID|itemID|score1|score2|\n",
      "+------+------+------+------+\n",
      "|199810|208019|   0.0|   0.0|\n",
      "|199810| 74139|   0.0|   0.0|\n",
      "|199810|  9903|   0.0|   0.0|\n",
      "|199810|242681|   0.0|   0.0|\n",
      "|199810| 18515|   0.0|  70.0|\n",
      "+------+------+------+------+\n",
      "only showing top 5 rows\n",
      "\n"
     ]
    }
   ],
   "source": [
    "score = spark.read.csv(\"score.csv\", header = False)\n",
    "#rename training dataFrame column names\n",
    "\n",
    "score = score.withColumnRenamed(\"_c0\", \"userID\").withColumnRenamed(\"_c1\", \"itemID\").withColumnRenamed(\"_c2\", \"score1\").withColumnRenamed(\"_c3\", \"score2\")\n",
    "\n",
    "score.show(5)"
   ]
  },
  {
   "cell_type": "code",
   "execution_count": 4,
   "id": "516dc305",
   "metadata": {},
   "outputs": [
    {
     "name": "stdout",
     "output_type": "stream",
     "text": [
      "+-------------+--------------+\n",
      "|      TrackID|weighted_score|\n",
      "+-------------+--------------+\n",
      "|199810_208019|           0.0|\n",
      "| 199810_74139|           0.0|\n",
      "|  199810_9903|           0.0|\n",
      "|199810_242681|           0.0|\n",
      "| 199810_18515|          14.0|\n",
      "+-------------+--------------+\n",
      "only showing top 5 rows\n",
      "\n"
     ]
    }
   ],
   "source": [
    "\n",
    "weighted_score = score.withColumn(\"weighted_score\", F.round(0.8*score.score1+0.2*score.score2))\n",
    "weighted_score = weighted_score.withColumn('TrackID', F.concat(F.col('userID'),F.lit('_'), F.col('itemID'))).select('TrackID','weighted_score')\n",
    "weighted_score.show(5)"
   ]
  },
  {
   "cell_type": "code",
   "execution_count": 5,
   "id": "192bcd1d",
   "metadata": {
    "scrolled": true
   },
   "outputs": [
    {
     "name": "stdout",
     "output_type": "stream",
     "text": [
      "root\n",
      " |-- TrackID: string (nullable = true)\n",
      " |-- weighted_score: double (nullable = true)\n",
      "\n"
     ]
    }
   ],
   "source": [
    "weighted_score.printSchema()"
   ]
  },
  {
   "cell_type": "raw",
   "id": "05bc1096",
   "metadata": {},
   "source": [
    "from pyspark.sql.functions import lit\n",
    "testing = weighted_score.withColumn(\"rating\", lit(0))\n",
    "testing.show()"
   ]
  },
  {
   "cell_type": "code",
   "execution_count": 7,
   "id": "ab732447",
   "metadata": {
    "scrolled": true
   },
   "outputs": [
    {
     "name": "stdout",
     "output_type": "stream",
     "text": [
      "+-------------+--------------+------+\n",
      "|      TrackID|weighted_score|rating|\n",
      "+-------------+--------------+------+\n",
      "| 200031_30877|          82.0|     1|\n",
      "|  200031_8244|          72.0|     1|\n",
      "|200031_130183|           0.0|     0|\n",
      "|200031_198762|           0.0|     0|\n",
      "| 200031_34503|          82.0|     1|\n",
      "|200031_227283|          18.0|     0|\n",
      "+-------------+--------------+------+\n",
      "only showing top 6 rows\n",
      "\n"
     ]
    }
   ],
   "source": [
    "df = training.join(weighted_score,training.TrackID == weighted_score.TrackID,\"inner\").drop(weighted_score.TrackID).select('TrackID','weighted_score','rating')\n",
    "df.show(6)"
   ]
  },
  {
   "cell_type": "code",
   "execution_count": 8,
   "id": "943778bf",
   "metadata": {},
   "outputs": [
    {
     "name": "stdout",
     "output_type": "stream",
     "text": [
      "root\n",
      " |-- TrackID: string (nullable = true)\n",
      " |-- weighted_score: double (nullable = true)\n",
      " |-- rating: string (nullable = true)\n",
      "\n"
     ]
    }
   ],
   "source": [
    "df.printSchema()"
   ]
  },
  {
   "cell_type": "code",
   "execution_count": 9,
   "id": "42124650",
   "metadata": {},
   "outputs": [
    {
     "name": "stdout",
     "output_type": "stream",
     "text": [
      "+-------------+--------------+------+\n",
      "|      TrackID|weighted_score|rating|\n",
      "+-------------+--------------+------+\n",
      "| 200031_30877|          82.0|     1|\n",
      "|  200031_8244|          72.0|     1|\n",
      "|200031_130183|           0.0|     0|\n",
      "+-------------+--------------+------+\n",
      "only showing top 3 rows\n",
      "\n"
     ]
    }
   ],
   "source": [
    "from pyspark.sql.types import IntegerType\n",
    "\n",
    "df = df.withColumn(\"weighted_score\", df[\"weighted_score\"].cast('float'))\n",
    "\n",
    "df.show(3)"
   ]
  },
  {
   "cell_type": "code",
   "execution_count": 10,
   "id": "0027fb6a",
   "metadata": {},
   "outputs": [
    {
     "name": "stdout",
     "output_type": "stream",
     "text": [
      "root\n",
      " |-- TrackID: string (nullable = true)\n",
      " |-- weighted_score: float (nullable = true)\n",
      " |-- rating: string (nullable = true)\n",
      "\n"
     ]
    }
   ],
   "source": [
    "df.printSchema()"
   ]
  },
  {
   "cell_type": "markdown",
   "id": "86f5f539",
   "metadata": {},
   "source": [
    "### build the model"
   ]
  },
  {
   "cell_type": "code",
   "execution_count": 15,
   "id": "f1dceca2",
   "metadata": {},
   "outputs": [],
   "source": [
    "\n",
    "from pyspark.ml import Pipeline\n",
    "from pyspark.ml.classification import LogisticRegression\n",
    "from pyspark.ml.feature import StringIndexer, VectorIndexer,VectorAssembler"
   ]
  },
  {
   "cell_type": "code",
   "execution_count": 61,
   "id": "0f92e110",
   "metadata": {},
   "outputs": [],
   "source": [
    "# Configure an ML pipeline\n",
    "label_stringIdx = StringIndexer(inputCol = 'rating', outputCol = 'label')\n",
    "numericCols = ['weighted_score']\n",
    "numVect = VectorAssembler(inputCols = ['weighted_score'], outputCol=\"features\")\n",
    "lr = LogisticRegression(maxIter=10, regParam=0.001)\n",
    "\n",
    "#lr = LogisticRegression(featuresCol = 'features', labelCol = 'label', maxIter=10)\n",
    "pipeline = Pipeline(stages=[numVect, label_stringIdx, lr])\n",
    "# Split the data into training and test sets (30% held out for testing)\n",
    "train, test = df.randomSplit([0.7, 0.3], seed = 2018)\n",
    "# Fit the pipeline to training documents.\n",
    "lrmodel = pipeline.fit(train)\n"
   ]
  },
  {
   "cell_type": "code",
   "execution_count": 60,
   "id": "38008993",
   "metadata": {},
   "outputs": [
    {
     "name": "stdout",
     "output_type": "stream",
     "text": [
      "Coefficients: \n",
      "DenseMatrix([[0.10817485]])\n",
      "\n",
      "Intercept: [-1.2695859821629902]\n"
     ]
    }
   ],
   "source": [
    "print(\"Coefficients: \\n\" + str(lrmodel.stages[-1].coefficientMatrix))\n",
    "print(\"Intercept: \" + str(lrmodel.stages[-1].interceptVector))"
   ]
  },
  {
   "cell_type": "markdown",
   "id": "d8824d90",
   "metadata": {},
   "source": [
    "### Evaluate our Logistic Regression model."
   ]
  },
  {
   "cell_type": "code",
   "execution_count": 51,
   "id": "c070cd0d",
   "metadata": {},
   "outputs": [
    {
     "data": {
      "image/png": "[encoded data removed]",
      "text/plain": [
       "<Figure size 432x288 with 1 Axes>"
      ]
     },
     "metadata": {
      "needs_background": "light"
     },
     "output_type": "display_data"
    },
    {
     "name": "stdout",
     "output_type": "stream",
     "text": [
      "Training set areaUnderROC: 0.8759553097602996\n"
     ]
    }
   ],
   "source": [
    "trainingSummary = lrmodel.stages[-1].summary\n",
    "roc = trainingSummary.roc.toPandas()\n",
    "plt.plot(roc['FPR'],roc['TPR'])\n",
    "plt.ylabel('False Positive Rate')\n",
    "plt.xlabel('True Positive Rate')\n",
    "plt.title('ROC Curve')\n",
    "plt.show()\n",
    "print('Training set areaUnderROC: ' + str(trainingSummary.areaUnderROC))"
   ]
  },
  {
   "cell_type": "code",
   "execution_count": 58,
   "id": "cdbbb11c",
   "metadata": {},
   "outputs": [
    {
     "name": "stderr",
     "output_type": "stream",
     "text": [
      "/Users/bding/Documents/Anaconda/anaconda3/lib/python3.9/site-packages/pyspark/sql/context.py:125: FutureWarning: Deprecated in 3.0.0. Use SparkSession.builder.getOrCreate() instead.\n",
      "  warnings.warn(\n"
     ]
    },
    {
     "data": {
      "image/png": "[encoded data removed]",
      "text/plain": [
       "<Figure size 432x288 with 1 Axes>"
      ]
     },
     "metadata": {
      "needs_background": "light"
     },
     "output_type": "display_data"
    }
   ],
   "source": [
    "pr = trainingSummary.pr.toPandas()\n",
    "plt.plot(pr['recall'],pr['precision'])\n",
    "plt.ylabel('Precision')\n",
    "plt.xlabel('Recall')\n",
    "plt.show()"
   ]
  },
  {
   "cell_type": "code",
   "execution_count": 56,
   "id": "eb0b5d80",
   "metadata": {},
   "outputs": [
    {
     "name": "stderr",
     "output_type": "stream",
     "text": [
      "\r",
      "[Stage 172:>                                                        (0 + 1) / 1]\r"
     ]
    },
    {
     "name": "stdout",
     "output_type": "stream",
     "text": [
      "Accuracy: 0.8492366412213741\n",
      "FPR: 0.15247538375008457\n",
      "TPR: 0.8492366412213741\n",
      "F-measure: 0.8479225871194789\n",
      "Precision: 0.8602466789869632\n",
      "Recall: 0.8492366412213741\n"
     ]
    },
    {
     "name": "stderr",
     "output_type": "stream",
     "text": [
      "\r",
      "                                                                                \r"
     ]
    }
   ],
   "source": [
    "accuracy = trainingSummary.accuracy\n",
    "falsePositiveRate = trainingSummary.weightedFalsePositiveRate\n",
    "truePositiveRate = trainingSummary.weightedTruePositiveRate\n",
    "fMeasure = trainingSummary.weightedFMeasure()\n",
    "precision = trainingSummary.weightedPrecision\n",
    "recall = trainingSummary.weightedRecall\n",
    "print(\"Accuracy: %s\\nFPR: %s\\nTPR: %s\\nF-measure: %s\\nPrecision: %s\\nRecall: %s\"\n",
    "      % (accuracy, falsePositiveRate, truePositiveRate, fMeasure, precision, recall))"
   ]
  },
  {
   "cell_type": "markdown",
   "id": "3c72e7b7",
   "metadata": {},
   "source": [
    "### Make predictions on the test set"
   ]
  },
  {
   "cell_type": "code",
   "execution_count": 62,
   "id": "c0a0c1f9",
   "metadata": {},
   "outputs": [
    {
     "name": "stdout",
     "output_type": "stream",
     "text": [
      "+-------------+--------------+------+--------+-----+--------------------+--------------------+----------+\n",
      "|      TrackID|weighted_score|rating|features|label|       rawPrediction|         probability|prediction|\n",
      "+-------------+--------------+------+--------+-----+--------------------+--------------------+----------+\n",
      "|200031_130183|           0.0|     0|   [0.0]|  0.0|[1.26958598216299...|[0.78067186664810...|       0.0|\n",
      "| 200032_18681|          90.0|     1|  [90.0]|  1.0|[-8.4661502690590...|[2.10429322666623...|       1.0|\n",
      "| 200032_64167|          90.0|     1|  [90.0]|  1.0|[-8.4661502690590...|[2.10429322666623...|       1.0|\n",
      "|200055_134398|          18.0|     1|  [18.0]|  1.0|[-0.6775612680814...|[0.33680581945586...|       1.0|\n",
      "| 200055_56695|          90.0|     1|  [90.0]|  1.0|[-8.4661502690590...|[2.10429322666623...|       1.0|\n",
      "|200065_179571|           0.0|     0|   [0.0]|  0.0|[1.26958598216299...|[0.78067186664810...|       0.0|\n",
      "| 200065_26875|          90.0|     1|  [90.0]|  1.0|[-8.4661502690590...|[2.10429322666623...|       1.0|\n",
      "|200074_142078|           0.0|     0|   [0.0]|  0.0|[1.26958598216299...|[0.78067186664810...|       0.0|\n",
      "|200074_269977|           0.0|     0|   [0.0]|  0.0|[1.26958598216299...|[0.78067186664810...|       0.0|\n",
      "|200074_276467|          18.0|     1|  [18.0]|  1.0|[-0.6775612680814...|[0.33680581945586...|       1.0|\n",
      "| 200074_38502|          90.0|     1|  [90.0]|  1.0|[-8.4661502690590...|[2.10429322666623...|       1.0|\n",
      "|200085_284406|           0.0|     0|   [0.0]|  0.0|[1.26958598216299...|[0.78067186664810...|       0.0|\n",
      "+-------------+--------------+------+--------+-----+--------------------+--------------------+----------+\n",
      "only showing top 12 rows\n",
      "\n"
     ]
    }
   ],
   "source": [
    "predictions = lrmodel.transform(test)\n",
    "predictions.show(12)"
   ]
  },
  {
   "cell_type": "code",
   "execution_count": 28,
   "id": "c6dbcc54",
   "metadata": {},
   "outputs": [
    {
     "name": "stderr",
     "output_type": "stream",
     "text": [
      "\r",
      "[Stage 115:>                                                        (0 + 1) / 1]\r"
     ]
    },
    {
     "name": "stdout",
     "output_type": "stream",
     "text": [
      "+---------+------------------+\n",
      "|   metric|             value|\n",
      "+---------+------------------+\n",
      "|       TP|             659.0|\n",
      "|       FP|              44.0|\n",
      "|       TN|             793.0|\n",
      "|       FN|             218.0|\n",
      "|Precision|0.9374110953058321|\n",
      "|   Recall|0.7514253135689852|\n",
      "|       F1|0.8341772151898734|\n",
      "+---------+------------------+\n",
      "\n"
     ]
    },
    {
     "name": "stderr",
     "output_type": "stream",
     "text": [
      "\r",
      "                                                                                \r"
     ]
    }
   ],
   "source": [
    "#Evaluating prediction results\n",
    "\n",
    "tp = float(predictions.filter(\"prediction == 1.0 AND rating == 1\").count())\n",
    "fp = float(predictions.filter(\"prediction == 1.0 AND rating == 0\").count())\n",
    "tn = float(predictions.filter(\"prediction == 0.0 AND rating == 0\").count())\n",
    "fn = float(predictions.filter(\"prediction == 0.0 AND rating == 1\").count())\n",
    "pr = tp / (tp + fp)\n",
    "re = tp / (tp + fn)\n",
    "metrics = spark.createDataFrame([\n",
    " (\"TP\", tp),\n",
    " (\"FP\", fp),\n",
    " (\"TN\", tn),\n",
    " (\"FN\", fn),\n",
    " (\"Precision\", pr),\n",
    " (\"Recall\", re),\n",
    " (\"F1\", 2*pr*re/(re+pr))],[\"metric\", \"value\"])\n",
    "metrics.show()"
   ]
  },
  {
   "cell_type": "code",
   "execution_count": 44,
   "id": "e14cf4f9",
   "metadata": {},
   "outputs": [
    {
     "name": "stdout",
     "output_type": "stream",
     "text": [
      "Test Area Under ROC 0.8705093256717195\n"
     ]
    }
   ],
   "source": [
    "#Evaluate our Logistic Regression model.\n",
    "from pyspark.ml.evaluation import BinaryClassificationEvaluator\n",
    "evaluator = BinaryClassificationEvaluator()\n",
    "print('Test Area Under ROC', evaluator.evaluate(predictions))"
   ]
  },
  {
   "cell_type": "code",
   "execution_count": 63,
   "id": "5f56882e",
   "metadata": {},
   "outputs": [
    {
     "name": "stdout",
     "output_type": "stream",
     "text": [
      "Test Error = 0.129491\n"
     ]
    },
    {
     "name": "stderr",
     "output_type": "stream",
     "text": [
      "\r",
      "[Stage 206:>                                                        (0 + 1) / 1]\r",
      "\r",
      "                                                                                \r"
     ]
    }
   ],
   "source": [
    "accuracy = evaluator.evaluate(predictions)\n",
    "print(\"Test Error = %g\" % (1.0 - accuracy))"
   ]
  },
  {
   "cell_type": "markdown",
   "id": "9dd5e3e7",
   "metadata": {},
   "source": [
    "### Make predictions on the rating scores data"
   ]
  },
  {
   "cell_type": "code",
   "execution_count": 54,
   "id": "09e49f14",
   "metadata": {},
   "outputs": [
    {
     "name": "stdout",
     "output_type": "stream",
     "text": [
      "+-------------+--------------+--------+--------------------+--------------------+----------+\n",
      "|      TrackID|weighted_score|features|       rawPrediction|         probability|prediction|\n",
      "+-------------+--------------+--------+--------------------+--------------------+----------+\n",
      "|199810_208019|           0.0|   [0.0]|[1.26958598216299...|[0.78067186664810...|       0.0|\n",
      "| 199810_74139|           0.0|   [0.0]|[1.26958598216299...|[0.78067186664810...|       0.0|\n",
      "|  199810_9903|           0.0|   [0.0]|[1.26958598216299...|[0.78067186664810...|       0.0|\n",
      "|199810_242681|           0.0|   [0.0]|[1.26958598216299...|[0.78067186664810...|       0.0|\n",
      "| 199810_18515|          14.0|  [14.0]|[-0.2448618791382...|[0.43908856714809...|       1.0|\n",
      "|199810_105760|          18.0|  [18.0]|[-0.6775612680814...|[0.33680581945586...|       1.0|\n",
      "|199812_276940|           0.0|   [0.0]|[1.26958598216299...|[0.78067186664810...|       0.0|\n",
      "|199812_142408|         100.0| [100.0]|[-9.5478987414170...|[7.13459420225849...|       1.0|\n",
      "|199812_130023|         100.0| [100.0]|[-9.5478987414170...|[7.13459420225849...|       1.0|\n",
      "| 199812_29189|           0.0|   [0.0]|[1.26958598216299...|[0.78067186664810...|       0.0|\n",
      "|199812_223706|          20.0|  [20.0]|[-0.8939109625530...|[0.29030340190075...|       1.0|\n",
      "|199812_211361|           0.0|   [0.0]|[1.26958598216299...|[0.78067186664810...|       0.0|\n",
      "+-------------+--------------+--------+--------------------+--------------------+----------+\n",
      "only showing top 12 rows\n",
      "\n"
     ]
    },
    {
     "name": "stderr",
     "output_type": "stream",
     "text": [
      "22/04/29 22:00:12 WARN StringIndexerModel: Input column rating does not exist during transformation. Skip StringIndexerModel for this column.\n"
     ]
    }
   ],
   "source": [
    "#Use the model to pedict the whole test data\n",
    "prediction_all = lrmodel.transform(weighted_score)\n",
    "prediction_all.show(12)"
   ]
  },
  {
   "cell_type": "code",
   "execution_count": 39,
   "id": "a8a81fbd",
   "metadata": {},
   "outputs": [],
   "source": [
    "#select \"TrackID\",\"Predictor\"\n",
    "prediction_All = prediction_all.withColumnRenamed(\"prediction\", \"Predictor\").select(\"TrackID\",\"Predictor\")"
   ]
  },
  {
   "cell_type": "code",
   "execution_count": 40,
   "id": "fe362d2e",
   "metadata": {},
   "outputs": [
    {
     "name": "stdout",
     "output_type": "stream",
     "text": [
      "+-------------+---------+\n",
      "|      TrackID|Predictor|\n",
      "+-------------+---------+\n",
      "|199810_208019|      0.0|\n",
      "| 199810_74139|      0.0|\n",
      "|  199810_9903|      0.0|\n",
      "|199810_242681|      0.0|\n",
      "| 199810_18515|      1.0|\n",
      "+-------------+---------+\n",
      "only showing top 5 rows\n",
      "\n"
     ]
    }
   ],
   "source": [
    "prediction_All.show(5)"
   ]
  },
  {
   "cell_type": "code",
   "execution_count": 41,
   "id": "e53217e8",
   "metadata": {},
   "outputs": [
    {
     "data": {
      "text/plain": [
       "120000"
      ]
     },
     "execution_count": 41,
     "metadata": {},
     "output_type": "execute_result"
    }
   ],
   "source": [
    "prediction_All.count()"
   ]
  },
  {
   "cell_type": "code",
   "execution_count": 36,
   "id": "f5c67021",
   "metadata": {},
   "outputs": [
    {
     "name": "stderr",
     "output_type": "stream",
     "text": [
      "                                                                                \r"
     ]
    }
   ],
   "source": [
    "#save the results to csv file\n",
    "prediction_All.toPandas().to_csv('prediction_lr.csv')"
   ]
  },
  {
   "cell_type": "code",
   "execution_count": null,
   "id": "bdd9ffbd",
   "metadata": {},
   "outputs": [],
   "source": []
  },
  {
   "cell_type": "code",
   "execution_count": null,
   "id": "b97c6ecf",
   "metadata": {},
   "outputs": [],
   "source": []
  }
 ],
 "metadata": {
  "kernelspec": {
   "display_name": "Python 3 (ipykernel)",
   "language": "python",
   "name": "python3"
  },
  "language_info": {
   "codemirror_mode": {
    "name": "ipython",
    "version": 3
   },
   "file_extension": ".py",
   "mimetype": "text/x-python",
   "name": "python",
   "nbconvert_exporter": "python",
   "pygments_lexer": "ipython3",
   "version": "3.9.7"
  }
 },
 "nbformat": 4,
 "nbformat_minor": 5
}
